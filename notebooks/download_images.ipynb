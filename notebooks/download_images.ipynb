{
 "cells": [
  {
   "cell_type": "markdown",
   "metadata": {},
   "source": [
    "## Bibliography\n",
    "\n",
    "* https://dev.to/louisbertin/download-all-flickr-photos-of-a-user-with-only-20-lines-of-python-4gh7\n",
    "* https://medium.com/@jameld.pro/secure-your-api-keys-b123f30ac014"
   ]
  },
  {
   "cell_type": "code",
   "execution_count": 1,
   "metadata": {},
   "outputs": [],
   "source": [
    "%load_ext autoreload\n",
    "%autoreload 2"
   ]
  },
  {
   "cell_type": "markdown",
   "metadata": {},
   "source": [
    "## Donwload images from Flickr, using Flickr API\n"
   ]
  },
  {
   "cell_type": "code",
   "execution_count": 2,
   "metadata": {},
   "outputs": [],
   "source": [
    "# Create flickr_downloader object\n",
    "\n",
    "from config import api_key, api_secret\n",
    "from image_search_engine.download import FlickrDownloader\n",
    "\n",
    "flickr_downloader = FlickrDownloader(api_key, api_secret)"
   ]
  },
  {
   "cell_type": "code",
   "execution_count": 3,
   "metadata": {},
   "outputs": [
    {
     "name": "stdout",
     "output_type": "stream",
     "text": [
      "User found: 15K Nocturna Valencia Banco Mediolanum\n"
     ]
    },
    {
     "data": {
      "application/vnd.jupyter.widget-view+json": {
       "model_id": "d6fae02dc2fa40ee90738d4a5a2b14b8",
       "version_major": 2,
       "version_minor": 0
      },
      "text/plain": [
       "  0%|          | 0/909 [00:00<?, ?imgs/s]"
      ]
     },
     "metadata": {},
     "output_type": "display_data"
    }
   ],
   "source": [
    "# Donwload all public photos from a user\n",
    "\n",
    "from pathlib import Path\n",
    "\n",
    "USER_NAME = '15K Nocturna Valencia Banco Mediolanum'\n",
    "\n",
    "output_path = Path('flickr_images','temp') / USER_NAME\n",
    "output_path.mkdir(parents=True, exist_ok=True)\n",
    "\n",
    "flickr_downloader.download_public_photos_from_user(USER_NAME, output_path)"
   ]
  }
 ],
 "metadata": {
  "kernelspec": {
   "display_name": "labelimg",
   "language": "python",
   "name": "python3"
  },
  "language_info": {
   "codemirror_mode": {
    "name": "ipython",
    "version": 3
   },
   "file_extension": ".py",
   "mimetype": "text/x-python",
   "name": "python",
   "nbconvert_exporter": "python",
   "pygments_lexer": "ipython3",
   "version": "3.8.0 (default, Nov  6 2019, 16:00:02) [MSC v.1916 64 bit (AMD64)]"
  },
  "orig_nbformat": 4,
  "vscode": {
   "interpreter": {
    "hash": "1f8452e6d867ccb075a79568788dcd0c1cbcce43bea7d2eabff42e75e4a57c2b"
   }
  }
 },
 "nbformat": 4,
 "nbformat_minor": 2
}
