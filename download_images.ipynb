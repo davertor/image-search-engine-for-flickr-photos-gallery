{
 "cells": [
  {
   "cell_type": "markdown",
   "metadata": {},
   "source": [
    "## Bibliography\n",
    "\n",
    "* https://dev.to/louisbertin/download-all-flickr-photos-of-a-user-with-only-20-lines-of-python-4gh7\n",
    "* https://medium.com/@jameld.pro/secure-your-api-keys-b123f30ac014"
   ]
  },
  {
   "cell_type": "markdown",
   "metadata": {},
   "source": [
    "## Import flickr api keys and secrets\n"
   ]
  },
  {
   "cell_type": "code",
   "execution_count": 29,
   "metadata": {},
   "outputs": [],
   "source": [
    "import flickr_api\n",
    "from config import api_key, api_secret\n",
    "\n",
    "flickr_api.set_keys(api_key = api_key, api_secret = api_secret)\n"
   ]
  },
  {
   "cell_type": "code",
   "execution_count": 30,
   "metadata": {},
   "outputs": [
    {
     "name": "stdout",
     "output_type": "stream",
     "text": [
      "User found: 15K Nocturna Valencia Banco Mediolanum\n"
     ]
    }
   ],
   "source": [
    "import os\n",
    "\n",
    "USER_NAME = '15K Nocturna Valencia Banco Mediolanum'\n",
    "OUTPUT_DIR = 'flickr_images/' + USER_NAME + '/'\n",
    "\n",
    "# Create folder\n",
    "if not os.path.exists(OUTPUT_DIR):\n",
    "    os.makedirs(OUTPUT_DIR)\n",
    "\n",
    "try:\n",
    "    user = flickr_api.Person.findByUserName(USER_NAME)\n",
    "    print('User found: ' + user.username)\n",
    "except Exception as e:\n",
    "    print(e, 'User not found')\n"
   ]
  },
  {
   "cell_type": "code",
   "execution_count": 31,
   "metadata": {},
   "outputs": [
    {
     "name": "stdout",
     "output_type": "stream",
     "text": [
      "total photos: 909\n"
     ]
    },
    {
     "data": {
      "application/vnd.jupyter.widget-view+json": {
       "model_id": "4ee1cfabd9c541c498d7738c1fa66ea7",
       "version_major": 2,
       "version_minor": 0
      },
      "text/plain": [
       "  0%|          | 0/10 [00:00<?, ?it/s]"
      ]
     },
     "metadata": {},
     "output_type": "display_data"
    },
    {
     "data": {
      "application/vnd.jupyter.widget-view+json": {
       "model_id": "94c3098e835c49d287439231fabe3877",
       "version_major": 2,
       "version_minor": 0
      },
      "text/plain": [
       "0it [00:00, ?it/s]"
      ]
     },
     "metadata": {},
     "output_type": "display_data"
    },
    {
     "data": {
      "application/vnd.jupyter.widget-view+json": {
       "model_id": "daab793f14ec42ee8063ecfe04d361e3",
       "version_major": 2,
       "version_minor": 0
      },
      "text/plain": [
       "0it [00:00, ?it/s]"
      ]
     },
     "metadata": {},
     "output_type": "display_data"
    },
    {
     "data": {
      "application/vnd.jupyter.widget-view+json": {
       "model_id": "7fdfce7866774ac5998e96c147f0be7a",
       "version_major": 2,
       "version_minor": 0
      },
      "text/plain": [
       "0it [00:00, ?it/s]"
      ]
     },
     "metadata": {},
     "output_type": "display_data"
    },
    {
     "data": {
      "application/vnd.jupyter.widget-view+json": {
       "model_id": "45da95b6d4124f25a0bda5ce40dc7bf5",
       "version_major": 2,
       "version_minor": 0
      },
      "text/plain": [
       "0it [00:00, ?it/s]"
      ]
     },
     "metadata": {},
     "output_type": "display_data"
    },
    {
     "data": {
      "application/vnd.jupyter.widget-view+json": {
       "model_id": "cb794090cf574ee5bc799446ff281311",
       "version_major": 2,
       "version_minor": 0
      },
      "text/plain": [
       "0it [00:00, ?it/s]"
      ]
     },
     "metadata": {},
     "output_type": "display_data"
    },
    {
     "data": {
      "application/vnd.jupyter.widget-view+json": {
       "model_id": "dda5645ff6e64e37a8eab4c131401d52",
       "version_major": 2,
       "version_minor": 0
      },
      "text/plain": [
       "0it [00:00, ?it/s]"
      ]
     },
     "metadata": {},
     "output_type": "display_data"
    },
    {
     "data": {
      "application/vnd.jupyter.widget-view+json": {
       "model_id": "767ef99860154efd89d356148ee8138c",
       "version_major": 2,
       "version_minor": 0
      },
      "text/plain": [
       "0it [00:00, ?it/s]"
      ]
     },
     "metadata": {},
     "output_type": "display_data"
    },
    {
     "data": {
      "application/vnd.jupyter.widget-view+json": {
       "model_id": "e03e006457834e48b0456945fcb108db",
       "version_major": 2,
       "version_minor": 0
      },
      "text/plain": [
       "0it [00:00, ?it/s]"
      ]
     },
     "metadata": {},
     "output_type": "display_data"
    },
    {
     "data": {
      "application/vnd.jupyter.widget-view+json": {
       "model_id": "d3c512d28424452bb19ac91ed6ba7e41",
       "version_major": 2,
       "version_minor": 0
      },
      "text/plain": [
       "0it [00:00, ?it/s]"
      ]
     },
     "metadata": {},
     "output_type": "display_data"
    },
    {
     "data": {
      "application/vnd.jupyter.widget-view+json": {
       "model_id": "2729808044184071b3be421b6eb93472",
       "version_major": 2,
       "version_minor": 0
      },
      "text/plain": [
       "0it [00:00, ?it/s]"
      ]
     },
     "metadata": {},
     "output_type": "display_data"
    },
    {
     "name": "stdout",
     "output_type": "stream",
     "text": [
      "Total photos downloaded: 909\n"
     ]
    }
   ],
   "source": [
    "from tqdm.notebook import tqdm\n",
    "\n",
    "pages_nb = user.getPublicPhotos().info.pages\n",
    "total = user.getPublicPhotos().info.total\n",
    "\n",
    "print('total photos: ' + str(total))\n",
    "\n",
    "current = 0\n",
    "for page_nb in tqdm(range(1, pages_nb+1)):\n",
    "    for index, photo in tqdm(enumerate(user.getPublicPhotos(page=page_nb))):\n",
    "        try:\n",
    "            sizes = photo.getSizes()\n",
    "            biggest_size = list(sizes.keys())[-1]\n",
    "            filename = photo.title.replace(\"/\", \"-\") + \"_\" + photo.id\n",
    "            dest_path = OUTPUT_DIR +  filename\n",
    "            if not os.path.exists(dest_path):\n",
    "                photo.save(dest_path, size_label = biggest_size)\n",
    "            current += 1\n",
    "\n",
    "        except Exception as e:\n",
    "            print(e, 'Error saving photo: ' + filename)\n",
    "            continue\n",
    "        \n",
    "print('Total photos downloaded: ' + str(current))"
   ]
  },
  {
   "cell_type": "code",
   "execution_count": null,
   "metadata": {},
   "outputs": [],
   "source": []
  }
 ],
 "metadata": {
  "kernelspec": {
   "display_name": "Python 3.7.9 ('pytorch')",
   "language": "python",
   "name": "python3"
  },
  "language_info": {
   "codemirror_mode": {
    "name": "ipython",
    "version": 3
   },
   "file_extension": ".py",
   "mimetype": "text/x-python",
   "name": "python",
   "nbconvert_exporter": "python",
   "pygments_lexer": "ipython3",
   "version": "3.7.9"
  },
  "orig_nbformat": 4,
  "vscode": {
   "interpreter": {
    "hash": "93530e9d607d0d29835a7671e97384b2af71a2ee5b49ceff32f1ed74ed607a1d"
   }
  }
 },
 "nbformat": 4,
 "nbformat_minor": 2
}
