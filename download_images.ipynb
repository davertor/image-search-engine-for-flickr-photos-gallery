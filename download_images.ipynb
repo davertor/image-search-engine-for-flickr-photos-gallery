{
 "cells": [
  {
   "cell_type": "markdown",
   "metadata": {},
   "source": [
    "## Bibliography\n",
    "\n",
    "* https://dev.to/louisbertin/download-all-flickr-photos-of-a-user-with-only-20-lines-of-python-4gh7\n",
    "* https://medium.com/@jameld.pro/secure-your-api-keys-b123f30ac014"
   ]
  },
  {
   "cell_type": "markdown",
   "metadata": {},
   "source": [
    "## Import flickr api keys and secrets\n"
   ]
  },
  {
   "cell_type": "code",
   "execution_count": null,
   "metadata": {},
   "outputs": [],
   "source": [
    "import flickr_api\n",
    "from config import api_key, api_secret\n",
    "\n",
    "flickr_api.set_keys(api_key = api_key, api_secret = api_secret)\n"
   ]
  },
  {
   "cell_type": "code",
   "execution_count": null,
   "metadata": {},
   "outputs": [],
   "source": [
    "\n",
    "from pathlib import Path\n",
    "\n",
    "USER_NAME = '15K Nocturna Valencia Banco Mediolanum'\n",
    "\n",
    "output_path = Path('flickr_images') / USER_NAME\n",
    "output_path.mkdir(parents=True, exist_ok=True)\n"
   ]
  },
  {
   "cell_type": "code",
   "execution_count": null,
   "metadata": {},
   "outputs": [],
   "source": [
    "try:\n",
    "    user = flickr_api.Person.findByUserName(USER_NAME)\n",
    "    print('User found: ' + user.username)\n",
    "except Exception as e:\n",
    "    print(e, 'User not found')\n"
   ]
  },
  {
   "cell_type": "code",
   "execution_count": null,
   "metadata": {},
   "outputs": [],
   "source": [
    "from concurrent.futures import ThreadPoolExecutor\n",
    "from tqdm.notebook import tqdm\n",
    "import pandas as pd\n",
    "\n",
    "\n",
    "def download_photo(photo):\n",
    "    # Using private _getOutputFilename as a quick hack to retrieve file extension\n",
    "    extension = photo._getOutputFilename('', None)\n",
    "    \n",
    "    # Get image metadata\n",
    "    try:\n",
    "        filename = f'{photo.title.replace(\"/\", \"-\")}_{photo.id}{extension}'\n",
    "        sizes = photo.getSizes()\n",
    "        biggest_size = list(sizes.keys())[-1]\n",
    "    except Exception as e:\n",
    "        print(e, 'Error getting image metadata')\n",
    "        \n",
    "    # Get original image url\n",
    "    try:\n",
    "        url = sizes[biggest_size]['source']\n",
    "    except Exception as e:\n",
    "        print(e, 'Error getting image url')\n",
    "    \n",
    "    # Save image in local\n",
    "    try:\n",
    "        dest_path = output_path / filename\n",
    "        if not dest_path.exists():\n",
    "            photo.save(str(dest_path))\n",
    "    except Exception as e:\n",
    "        print(e, 'Error saving image ', filename)\n",
    "        continue\n",
    "    \n",
    "    # Return metadata of the image\n",
    "    new_item = {\n",
    "        'filename': filename,\n",
    "        'url': url,\n",
    "    }\n",
    "    return new_item\n",
    "\n",
    "\n",
    "def get_all_photos(user):\n",
    "    # Flickr API only allows you to retrieve photos on pages of up to 500 photos\n",
    "    # This generator abstracts from that limitation so all photos are iterated\n",
    "    photos = user.getPublicPhotos()\n",
    "    page = 1\n",
    "    while photos:\n",
    "        yield from photos\n",
    "        # Advance to the next page\n",
    "        page += 1\n",
    "        photos = user.getPublicPhotos(page=page)\n",
    "\n",
    "\n",
    "csv_info_path = 'flickr_images/' + USER_NAME + '_info.csv',\n",
    "images_info_df = pd.DataFrame(columns=['filename', 'url']),\n",
    "\n",
    "total = user.getPublicPhotos().info.total\n",
    "\n",
    "with ThreadPoolExecutor() as executor:\n",
    "    for new_item in tqdm(executor.map(download_photo, get_all_photos(user)), total=total, unit='imgs'):\n",
    "        # Append new item to info dataframe\n",
    "        images_info_df = images_info_df.append(new_item, ignore_index=True)\n",
    "        \n",
    "# Saving csv info\n",
    "images_info_df.to_csv(csv_info_path, index=False) "
   ]
  }
 ],
 "metadata": {
  "kernelspec": {
   "display_name": "Python 3.10.0 64-bit",
   "language": "python",
   "name": "python3"
  },
  "language_info": {
   "codemirror_mode": {
    "name": "ipython",
    "version": 3
   },
   "file_extension": ".py",
   "mimetype": "text/x-python",
   "name": "python",
   "nbconvert_exporter": "python",
   "pygments_lexer": "ipython3",
   "version": "3.10.0"
  },
  "orig_nbformat": 4,
  "vscode": {
   "interpreter": {
    "hash": "f8b898c2ebedbebff3b2edd80ee7f545240056cc04d36a817e047248a943970c"
   }
  }
 },
 "nbformat": 4,
 "nbformat_minor": 2
}
