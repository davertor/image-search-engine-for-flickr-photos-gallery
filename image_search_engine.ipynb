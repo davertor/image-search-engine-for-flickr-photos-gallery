{
 "cells": [
  {
   "cell_type": "markdown",
   "metadata": {},
   "source": [
    "## Import libraries"
   ]
  },
  {
   "cell_type": "code",
   "execution_count": null,
   "metadata": {},
   "outputs": [],
   "source": [
    "import random\n",
    "\n",
    "from tqdm.notebook import tqdm\n",
    "import numpy as np\n",
    "import pickle\n",
    "import cv2\n",
    "from PIL import Image\n",
    "import matplotlib.pyplot as plt\n",
    "\n",
    "import warnings\n",
    "warnings.filterwarnings('ignore')"
   ]
  },
  {
   "cell_type": "code",
   "execution_count": null,
   "metadata": {},
   "outputs": [],
   "source": [
    "from embedding_model import EmbeddingModel"
   ]
  },
  {
   "cell_type": "markdown",
   "metadata": {},
   "source": [
    "## Define initial variables"
   ]
  },
  {
   "cell_type": "code",
   "execution_count": null,
   "metadata": {},
   "outputs": [],
   "source": [
    "IMGS_FOLDER = 'flickr_images/15K Nocturna Valencia Banco Mediolanum/'\n",
    "\n",
    "EMBEDDINGS_PATH = 'flickr_images/15K_Nocturna_Valencia_Banco_Mediolanum_nobg_embeddings.pkl'"
   ]
  },
  {
   "cell_type": "markdown",
   "metadata": {},
   "source": [
    "## Load model"
   ]
  },
  {
   "cell_type": "code",
   "execution_count": null,
   "metadata": {},
   "outputs": [],
   "source": [
    "embed_model = EmbeddingModel()"
   ]
  },
  {
   "cell_type": "markdown",
   "metadata": {},
   "source": [
    "## Load image embeddings"
   ]
  },
  {
   "cell_type": "code",
   "execution_count": null,
   "metadata": {},
   "outputs": [],
   "source": [
    "# Load image embeddings from disk. Each item of the dict will contain \n",
    "# the name of the image as a key, and the numpy array of the embedding as a value\n",
    "\n",
    "with open(EMBEDDINGS_PATH, 'rb') as handle:\n",
    "    embed_dict = pickle.load(handle)\n",
    "\n",
    "print('Number of items: ', len(embed_dict.keys()))\n",
    "print(list(embed_dict.keys())[:5])\n",
    "\n",
    "img_names_list = list(embed_dict.keys())\n",
    "img_embeddings_np = np.array(list(embed_dict.values()))\n",
    "\n",
    "print('embeddings_np.shape: ', img_embeddings_np.shape)"
   ]
  },
  {
   "cell_type": "markdown",
   "metadata": {},
   "source": [
    "## Make a query"
   ]
  },
  {
   "cell_type": "code",
   "execution_count": null,
   "metadata": {},
   "outputs": [],
   "source": [
    "text_search = 'a man with a blue t-shirt'\n",
    "\n",
    "n_cols = 3\n",
    "n_rows = 12\n",
    "n_images = n_cols * n_rows\n",
    "\n",
    "indexes = embed_model.get_similar_images_indexes(img_embeddings_np, text_search, n=n_images)\n",
    "\n",
    "target_img_filenames = [img_names_list[index] for index in indexes]\n",
    "target_img_paths = [(IMGS_FOLDER + img_name) for img_name in target_img_filenames]\n",
    "\n",
    "fig, axes = plt.subplots(n_rows, n_cols, figsize=(12, 4*n_rows))\n",
    "for ax, img in zip(fig.axes, target_img_paths):\n",
    "    ax.imshow(Image.open(img))\n",
    "    ax.axis('off')\n",
    "\n",
    "plt.suptitle(text_search, fontsize=20)\n",
    "plt.tight_layout()\n",
    "plt.show()"
   ]
  }
 ],
 "metadata": {
  "kernelspec": {
   "display_name": "Python 3.10.0 64-bit",
   "language": "python",
   "name": "python3"
  },
  "language_info": {
   "codemirror_mode": {
    "name": "ipython",
    "version": 3
   },
   "file_extension": ".py",
   "mimetype": "text/x-python",
   "name": "python",
   "nbconvert_exporter": "python",
   "pygments_lexer": "ipython3",
   "version": "3.10.0"
  },
  "orig_nbformat": 4,
  "vscode": {
   "interpreter": {
    "hash": "f8b898c2ebedbebff3b2edd80ee7f545240056cc04d36a817e047248a943970c"
   }
  }
 },
 "nbformat": 4,
 "nbformat_minor": 2
}
