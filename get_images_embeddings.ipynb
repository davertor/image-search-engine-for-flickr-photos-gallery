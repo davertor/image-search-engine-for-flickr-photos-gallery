{
 "cells": [
  {
   "cell_type": "code",
   "execution_count": null,
   "metadata": {},
   "outputs": [],
   "source": [
    "import os\n",
    "import pathlib\n",
    "import random\n",
    "import numpy as np\n",
    "import pickle\n",
    "\n",
    "from tqdm.notebook import tqdm\n",
    "import cv2\n",
    "from PIL import Image\n",
    "import matplotlib.pyplot as plt\n",
    "\n",
    "import warnings\n",
    "warnings.filterwarnings('ignore')"
   ]
  },
  {
   "cell_type": "code",
   "execution_count": null,
   "metadata": {},
   "outputs": [],
   "source": [
    "from embedding_model import EmbeddingModel"
   ]
  },
  {
   "cell_type": "markdown",
   "metadata": {},
   "source": [
    "## Define initial variables"
   ]
  },
  {
   "cell_type": "code",
   "execution_count": null,
   "metadata": {},
   "outputs": [],
   "source": [
    "IMGS_FOLDER = 'flickr_images/15K Nocturna Valencia Banco Mediolanum/'\n",
    "EMBEDDINGS_PATH = 'flickr_images/15K_Nocturna_Valencia_Banco_Mediolanum_nobg_embeddings.pkl'\n",
    "\n",
    "images_path = pathlib.Path(IMGS_FOLDER)"
   ]
  },
  {
   "cell_type": "markdown",
   "metadata": {},
   "source": [
    "## Read images"
   ]
  },
  {
   "cell_type": "code",
   "execution_count": null,
   "metadata": {},
   "outputs": [],
   "source": [
    "# Read images from disk\n",
    "imgs_list = [p for p in images_path.glob('*') if p.suffix in ('.jpg','.jpeg','.png')]\n",
    "print(f'Number of images: {len(imgs_list)}')\n"
   ]
  },
  {
   "cell_type": "code",
   "execution_count": null,
   "metadata": {},
   "outputs": [],
   "source": [
    "# Display a grid of random images\n",
    "\n",
    "fig, _ = plt.subplots(3,3, figsize=(12,8))\n",
    "for ax, img_path in zip(fig.axes, random.sample(imgs_list, 9)):\n",
    "    image = Image.open(img_path)\n",
    "    image.thumbnail((400,400))\n",
    "    ax.imshow(image)\n",
    "    ax.axis('off')\n",
    "\n",
    "plt.tight_layout()\n",
    "plt.show()"
   ]
  },
  {
   "cell_type": "markdown",
   "metadata": {},
   "source": [
    "## Load model"
   ]
  },
  {
   "cell_type": "code",
   "execution_count": null,
   "metadata": {},
   "outputs": [],
   "source": [
    "embed_model = EmbeddingModel()"
   ]
  },
  {
   "cell_type": "markdown",
   "metadata": {},
   "source": [
    "## Get image embeddings"
   ]
  },
  {
   "cell_type": "code",
   "execution_count": null,
   "metadata": {},
   "outputs": [],
   "source": [
    "# generate embedding for images in batches\n",
    "batch_size = 50\n",
    "\n",
    "# This list could be a generator, but then we would need to provide tqdm with the number of batches as total\n",
    "batch_list = [imgs_list[i:i+batch_size] for i in range(0, len(imgs_list), batch_size)]\n",
    "batch_embeddings = [embed_model.encode_images(batch, normalize=False) for batch in tqdm(batch_list, unit='batch')]\n",
    "img_embeddings_np = np.concatenate(batch_embeddings, axis=0)\n",
    "\n",
    "# Normalize image embeddings\n",
    "img_embeddings_np /= np.linalg.norm(img_embeddings_np, ord=2, axis=-1, keepdims=True)\n",
    "\n",
    "print(img_embeddings_np.shape)"
   ]
  },
  {
   "cell_type": "code",
   "execution_count": null,
   "metadata": {},
   "outputs": [],
   "source": [
    "# Save image embeddings in disk. Each item of the dict will contain \n",
    "# the name of the image as a key, and the numpy array of the embedding as a value\n",
    "\n",
    "embed_dict = {img_path.name: embedding_np for img_path, embedding_np in zip(imgs_list, img_embeddings_np)}\n",
    "\n",
    "with open(EMBEDDINGS_PATH, 'wb') as handle:\n",
    "    pickle.dump(embed_dict, handle, protocol=pickle.HIGHEST_PROTOCOL)"
   ]
  },
  {
   "cell_type": "markdown",
   "metadata": {},
   "source": []
  }
 ],
 "metadata": {
  "kernelspec": {
   "display_name": "Python 3.10.0 64-bit",
   "language": "python",
   "name": "python3"
  },
  "language_info": {
   "codemirror_mode": {
    "name": "ipython",
    "version": 3
   },
   "file_extension": ".py",
   "mimetype": "text/x-python",
   "name": "python",
   "nbconvert_exporter": "python",
   "pygments_lexer": "ipython3",
   "version": "3.10.0"
  },
  "orig_nbformat": 4,
  "vscode": {
   "interpreter": {
    "hash": "f8b898c2ebedbebff3b2edd80ee7f545240056cc04d36a817e047248a943970c"
   }
  }
 },
 "nbformat": 4,
 "nbformat_minor": 2
}
